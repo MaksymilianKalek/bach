{
 "cells": [
  {
   "cell_type": "code",
   "execution_count": 2,
   "metadata": {
    "collapsed": true
   },
   "outputs": [],
   "source": [
    "import pandas as pd\n",
    "from matplotlib import pyplot\n",
    "from sklearn.model_selection import train_test_split\n",
    "from sklearn.model_selection import cross_val_score\n",
    "from sklearn.model_selection import StratifiedKFold\n",
    "from sklearn.metrics import classification_report\n",
    "from sklearn.metrics import confusion_matrix\n",
    "from sklearn.metrics import accuracy_score\n",
    "from sklearn.linear_model import LogisticRegression\n",
    "from sklearn.tree import DecisionTreeClassifier\n",
    "from sklearn.neighbors import KNeighborsClassifier\n",
    "from sklearn.discriminant_analysis import LinearDiscriminantAnalysis\n",
    "from sklearn.naive_bayes import GaussianNB\n",
    "from sklearn.svm import SVC"
   ]
  },
  {
   "cell_type": "code",
   "execution_count": 9,
   "outputs": [
    {
     "data": {
      "text/plain": "      raceId driverCode      teamName  startingGridPosition  position  \\\n15       990        ALO       McLaren                    13         7   \n16       990        BOT      Mercedes                     3         2   \n17       990        ERI        Sauber                    17         9   \n18       990        GAS    Toro Rosso                     5         4   \n19       990        GRO  Haas F1 Team                    16        13   \n...      ...        ...           ...                   ...       ...   \n1340    1073        SAI       Ferrari                     5         3   \n1341    1073        STR  Aston Martin                    13        13   \n1342    1073        TSU    AlphaTauri                     8         4   \n1343    1073        VER      Red Bull                     1         1   \n1344    1073        VET  Aston Martin                    15        11   \n\n      positionDiff                    circuitName              raceName  year  \\\n15               6  Bahrain International Circuit    Bahrain Grand Prix  2018   \n16               1  Bahrain International Circuit    Bahrain Grand Prix  2018   \n17               8  Bahrain International Circuit    Bahrain Grand Prix  2018   \n18               1  Bahrain International Circuit    Bahrain Grand Prix  2018   \n19               3  Bahrain International Circuit    Bahrain Grand Prix  2018   \n...            ...                            ...                   ...   ...   \n1340             2             Yas Marina Circuit  Abu Dhabi Grand Prix  2021   \n1341             0             Yas Marina Circuit  Abu Dhabi Grand Prix  2021   \n1342             4             Yas Marina Circuit  Abu Dhabi Grand Prix  2021   \n1343             0             Yas Marina Circuit  Abu Dhabi Grand Prix  2021   \n1344             4             Yas Marina Circuit  Abu Dhabi Grand Prix  2021   \n\n      AirTemp  Humidity  TrackTemp  WindSpeed  \\\n15       28.0      46.4       33.5        1.5   \n16       28.0      46.4       33.5        1.5   \n17       28.0      46.4       33.5        1.5   \n18       28.0      46.4       33.5        1.5   \n19       28.0      46.4       33.5        1.5   \n...       ...       ...        ...        ...   \n1340     25.6      53.5       33.0        0.7   \n1341     25.6      53.5       33.0        0.7   \n1342     25.6      53.5       33.0        0.7   \n1343     25.6      53.5       33.0        0.7   \n1344     25.6      53.5       33.0        0.7   \n\n                                          lapTireChange  \n15              14: SOFT->MEDIUM, 39: MEDIUM->SUPERSOFT  \n16                                20: SUPERSOFT->MEDIUM  \n17                                     23: SOFT->MEDIUM  \n18             15: SUPERSOFT->SOFT, 34: SOFT->SUPERSOFT  \n19    18: SUPERSOFT->SOFT, 30: SOFT->SUPERSOFT, 45: ...  \n...                                                 ...  \n1340                                     19: SOFT->HARD  \n1341                   21: MEDIUM->HARD, 52: HARD->SOFT  \n1342                   23: MEDIUM->HARD, 53: HARD->SOFT  \n1343     13: SOFT->HARD, 36: HARD->HARD, 53: HARD->SOFT  \n1344                                   23: MEDIUM->HARD  \n\n[995 rows x 14 columns]",
      "text/html": "<div>\n<style scoped>\n    .dataframe tbody tr th:only-of-type {\n        vertical-align: middle;\n    }\n\n    .dataframe tbody tr th {\n        vertical-align: top;\n    }\n\n    .dataframe thead th {\n        text-align: right;\n    }\n</style>\n<table border=\"1\" class=\"dataframe\">\n  <thead>\n    <tr style=\"text-align: right;\">\n      <th></th>\n      <th>raceId</th>\n      <th>driverCode</th>\n      <th>teamName</th>\n      <th>startingGridPosition</th>\n      <th>position</th>\n      <th>positionDiff</th>\n      <th>circuitName</th>\n      <th>raceName</th>\n      <th>year</th>\n      <th>AirTemp</th>\n      <th>Humidity</th>\n      <th>TrackTemp</th>\n      <th>WindSpeed</th>\n      <th>lapTireChange</th>\n    </tr>\n  </thead>\n  <tbody>\n    <tr>\n      <th>15</th>\n      <td>990</td>\n      <td>ALO</td>\n      <td>McLaren</td>\n      <td>13</td>\n      <td>7</td>\n      <td>6</td>\n      <td>Bahrain International Circuit</td>\n      <td>Bahrain Grand Prix</td>\n      <td>2018</td>\n      <td>28.0</td>\n      <td>46.4</td>\n      <td>33.5</td>\n      <td>1.5</td>\n      <td>14: SOFT-&gt;MEDIUM, 39: MEDIUM-&gt;SUPERSOFT</td>\n    </tr>\n    <tr>\n      <th>16</th>\n      <td>990</td>\n      <td>BOT</td>\n      <td>Mercedes</td>\n      <td>3</td>\n      <td>2</td>\n      <td>1</td>\n      <td>Bahrain International Circuit</td>\n      <td>Bahrain Grand Prix</td>\n      <td>2018</td>\n      <td>28.0</td>\n      <td>46.4</td>\n      <td>33.5</td>\n      <td>1.5</td>\n      <td>20: SUPERSOFT-&gt;MEDIUM</td>\n    </tr>\n    <tr>\n      <th>17</th>\n      <td>990</td>\n      <td>ERI</td>\n      <td>Sauber</td>\n      <td>17</td>\n      <td>9</td>\n      <td>8</td>\n      <td>Bahrain International Circuit</td>\n      <td>Bahrain Grand Prix</td>\n      <td>2018</td>\n      <td>28.0</td>\n      <td>46.4</td>\n      <td>33.5</td>\n      <td>1.5</td>\n      <td>23: SOFT-&gt;MEDIUM</td>\n    </tr>\n    <tr>\n      <th>18</th>\n      <td>990</td>\n      <td>GAS</td>\n      <td>Toro Rosso</td>\n      <td>5</td>\n      <td>4</td>\n      <td>1</td>\n      <td>Bahrain International Circuit</td>\n      <td>Bahrain Grand Prix</td>\n      <td>2018</td>\n      <td>28.0</td>\n      <td>46.4</td>\n      <td>33.5</td>\n      <td>1.5</td>\n      <td>15: SUPERSOFT-&gt;SOFT, 34: SOFT-&gt;SUPERSOFT</td>\n    </tr>\n    <tr>\n      <th>19</th>\n      <td>990</td>\n      <td>GRO</td>\n      <td>Haas F1 Team</td>\n      <td>16</td>\n      <td>13</td>\n      <td>3</td>\n      <td>Bahrain International Circuit</td>\n      <td>Bahrain Grand Prix</td>\n      <td>2018</td>\n      <td>28.0</td>\n      <td>46.4</td>\n      <td>33.5</td>\n      <td>1.5</td>\n      <td>18: SUPERSOFT-&gt;SOFT, 30: SOFT-&gt;SUPERSOFT, 45: ...</td>\n    </tr>\n    <tr>\n      <th>...</th>\n      <td>...</td>\n      <td>...</td>\n      <td>...</td>\n      <td>...</td>\n      <td>...</td>\n      <td>...</td>\n      <td>...</td>\n      <td>...</td>\n      <td>...</td>\n      <td>...</td>\n      <td>...</td>\n      <td>...</td>\n      <td>...</td>\n      <td>...</td>\n    </tr>\n    <tr>\n      <th>1340</th>\n      <td>1073</td>\n      <td>SAI</td>\n      <td>Ferrari</td>\n      <td>5</td>\n      <td>3</td>\n      <td>2</td>\n      <td>Yas Marina Circuit</td>\n      <td>Abu Dhabi Grand Prix</td>\n      <td>2021</td>\n      <td>25.6</td>\n      <td>53.5</td>\n      <td>33.0</td>\n      <td>0.7</td>\n      <td>19: SOFT-&gt;HARD</td>\n    </tr>\n    <tr>\n      <th>1341</th>\n      <td>1073</td>\n      <td>STR</td>\n      <td>Aston Martin</td>\n      <td>13</td>\n      <td>13</td>\n      <td>0</td>\n      <td>Yas Marina Circuit</td>\n      <td>Abu Dhabi Grand Prix</td>\n      <td>2021</td>\n      <td>25.6</td>\n      <td>53.5</td>\n      <td>33.0</td>\n      <td>0.7</td>\n      <td>21: MEDIUM-&gt;HARD, 52: HARD-&gt;SOFT</td>\n    </tr>\n    <tr>\n      <th>1342</th>\n      <td>1073</td>\n      <td>TSU</td>\n      <td>AlphaTauri</td>\n      <td>8</td>\n      <td>4</td>\n      <td>4</td>\n      <td>Yas Marina Circuit</td>\n      <td>Abu Dhabi Grand Prix</td>\n      <td>2021</td>\n      <td>25.6</td>\n      <td>53.5</td>\n      <td>33.0</td>\n      <td>0.7</td>\n      <td>23: MEDIUM-&gt;HARD, 53: HARD-&gt;SOFT</td>\n    </tr>\n    <tr>\n      <th>1343</th>\n      <td>1073</td>\n      <td>VER</td>\n      <td>Red Bull</td>\n      <td>1</td>\n      <td>1</td>\n      <td>0</td>\n      <td>Yas Marina Circuit</td>\n      <td>Abu Dhabi Grand Prix</td>\n      <td>2021</td>\n      <td>25.6</td>\n      <td>53.5</td>\n      <td>33.0</td>\n      <td>0.7</td>\n      <td>13: SOFT-&gt;HARD, 36: HARD-&gt;HARD, 53: HARD-&gt;SOFT</td>\n    </tr>\n    <tr>\n      <th>1344</th>\n      <td>1073</td>\n      <td>VET</td>\n      <td>Aston Martin</td>\n      <td>15</td>\n      <td>11</td>\n      <td>4</td>\n      <td>Yas Marina Circuit</td>\n      <td>Abu Dhabi Grand Prix</td>\n      <td>2021</td>\n      <td>25.6</td>\n      <td>53.5</td>\n      <td>33.0</td>\n      <td>0.7</td>\n      <td>23: MEDIUM-&gt;HARD</td>\n    </tr>\n  </tbody>\n</table>\n<p>995 rows × 14 columns</p>\n</div>"
     },
     "execution_count": 9,
     "metadata": {},
     "output_type": "execute_result"
    }
   ],
   "source": [
    "df = pd.read_csv('grouped_data.csv', index_col=0)\n",
    "df.drop(['WasRainingDuringRaceAnyTime'], axis=1, inplace=True)\n",
    "df"
   ],
   "metadata": {
    "collapsed": false,
    "pycharm": {
     "name": "#%%\n"
    }
   }
  },
  {
   "cell_type": "code",
   "execution_count": 10,
   "outputs": [
    {
     "data": {
      "text/plain": "      raceId  driverCode  teamName  startingGridPosition  position  \\\n15       990           0         0                    13         7   \n16       990           1         1                     3         2   \n17       990           2         2                    17         9   \n18       990           3         3                     5         4   \n19       990           4         4                    16        13   \n...      ...         ...       ...                   ...       ...   \n1340    1073          12         8                     5         3   \n1341    1073          14        14                    13        13   \n1342    1073          30        12                     8         4   \n1343    1073          19         9                     1         1   \n1344    1073          16        14                    15        11   \n\n      positionDiff  circuitName  raceName  year  AirTemp  Humidity  TrackTemp  \\\n15               6            0         0  2018     28.0      46.4       33.5   \n16               1            0         0  2018     28.0      46.4       33.5   \n17               8            0         0  2018     28.0      46.4       33.5   \n18               1            0         0  2018     28.0      46.4       33.5   \n19               3            0         0  2018     28.0      46.4       33.5   \n...            ...          ...       ...   ...      ...       ...        ...   \n1340             2           17        17  2021     25.6      53.5       33.0   \n1341             0           17        17  2021     25.6      53.5       33.0   \n1342             4           17        17  2021     25.6      53.5       33.0   \n1343             0           17        17  2021     25.6      53.5       33.0   \n1344             4           17        17  2021     25.6      53.5       33.0   \n\n      WindSpeed  lapTireChange  \n15          1.5              0  \n16          1.5              1  \n17          1.5              2  \n18          1.5              3  \n19          1.5              4  \n...         ...            ...  \n1340        0.7            176  \n1341        0.7            696  \n1342        0.7            697  \n1343        0.7            698  \n1344        0.7            238  \n\n[995 rows x 14 columns]",
      "text/html": "<div>\n<style scoped>\n    .dataframe tbody tr th:only-of-type {\n        vertical-align: middle;\n    }\n\n    .dataframe tbody tr th {\n        vertical-align: top;\n    }\n\n    .dataframe thead th {\n        text-align: right;\n    }\n</style>\n<table border=\"1\" class=\"dataframe\">\n  <thead>\n    <tr style=\"text-align: right;\">\n      <th></th>\n      <th>raceId</th>\n      <th>driverCode</th>\n      <th>teamName</th>\n      <th>startingGridPosition</th>\n      <th>position</th>\n      <th>positionDiff</th>\n      <th>circuitName</th>\n      <th>raceName</th>\n      <th>year</th>\n      <th>AirTemp</th>\n      <th>Humidity</th>\n      <th>TrackTemp</th>\n      <th>WindSpeed</th>\n      <th>lapTireChange</th>\n    </tr>\n  </thead>\n  <tbody>\n    <tr>\n      <th>15</th>\n      <td>990</td>\n      <td>0</td>\n      <td>0</td>\n      <td>13</td>\n      <td>7</td>\n      <td>6</td>\n      <td>0</td>\n      <td>0</td>\n      <td>2018</td>\n      <td>28.0</td>\n      <td>46.4</td>\n      <td>33.5</td>\n      <td>1.5</td>\n      <td>0</td>\n    </tr>\n    <tr>\n      <th>16</th>\n      <td>990</td>\n      <td>1</td>\n      <td>1</td>\n      <td>3</td>\n      <td>2</td>\n      <td>1</td>\n      <td>0</td>\n      <td>0</td>\n      <td>2018</td>\n      <td>28.0</td>\n      <td>46.4</td>\n      <td>33.5</td>\n      <td>1.5</td>\n      <td>1</td>\n    </tr>\n    <tr>\n      <th>17</th>\n      <td>990</td>\n      <td>2</td>\n      <td>2</td>\n      <td>17</td>\n      <td>9</td>\n      <td>8</td>\n      <td>0</td>\n      <td>0</td>\n      <td>2018</td>\n      <td>28.0</td>\n      <td>46.4</td>\n      <td>33.5</td>\n      <td>1.5</td>\n      <td>2</td>\n    </tr>\n    <tr>\n      <th>18</th>\n      <td>990</td>\n      <td>3</td>\n      <td>3</td>\n      <td>5</td>\n      <td>4</td>\n      <td>1</td>\n      <td>0</td>\n      <td>0</td>\n      <td>2018</td>\n      <td>28.0</td>\n      <td>46.4</td>\n      <td>33.5</td>\n      <td>1.5</td>\n      <td>3</td>\n    </tr>\n    <tr>\n      <th>19</th>\n      <td>990</td>\n      <td>4</td>\n      <td>4</td>\n      <td>16</td>\n      <td>13</td>\n      <td>3</td>\n      <td>0</td>\n      <td>0</td>\n      <td>2018</td>\n      <td>28.0</td>\n      <td>46.4</td>\n      <td>33.5</td>\n      <td>1.5</td>\n      <td>4</td>\n    </tr>\n    <tr>\n      <th>...</th>\n      <td>...</td>\n      <td>...</td>\n      <td>...</td>\n      <td>...</td>\n      <td>...</td>\n      <td>...</td>\n      <td>...</td>\n      <td>...</td>\n      <td>...</td>\n      <td>...</td>\n      <td>...</td>\n      <td>...</td>\n      <td>...</td>\n      <td>...</td>\n    </tr>\n    <tr>\n      <th>1340</th>\n      <td>1073</td>\n      <td>12</td>\n      <td>8</td>\n      <td>5</td>\n      <td>3</td>\n      <td>2</td>\n      <td>17</td>\n      <td>17</td>\n      <td>2021</td>\n      <td>25.6</td>\n      <td>53.5</td>\n      <td>33.0</td>\n      <td>0.7</td>\n      <td>176</td>\n    </tr>\n    <tr>\n      <th>1341</th>\n      <td>1073</td>\n      <td>14</td>\n      <td>14</td>\n      <td>13</td>\n      <td>13</td>\n      <td>0</td>\n      <td>17</td>\n      <td>17</td>\n      <td>2021</td>\n      <td>25.6</td>\n      <td>53.5</td>\n      <td>33.0</td>\n      <td>0.7</td>\n      <td>696</td>\n    </tr>\n    <tr>\n      <th>1342</th>\n      <td>1073</td>\n      <td>30</td>\n      <td>12</td>\n      <td>8</td>\n      <td>4</td>\n      <td>4</td>\n      <td>17</td>\n      <td>17</td>\n      <td>2021</td>\n      <td>25.6</td>\n      <td>53.5</td>\n      <td>33.0</td>\n      <td>0.7</td>\n      <td>697</td>\n    </tr>\n    <tr>\n      <th>1343</th>\n      <td>1073</td>\n      <td>19</td>\n      <td>9</td>\n      <td>1</td>\n      <td>1</td>\n      <td>0</td>\n      <td>17</td>\n      <td>17</td>\n      <td>2021</td>\n      <td>25.6</td>\n      <td>53.5</td>\n      <td>33.0</td>\n      <td>0.7</td>\n      <td>698</td>\n    </tr>\n    <tr>\n      <th>1344</th>\n      <td>1073</td>\n      <td>16</td>\n      <td>14</td>\n      <td>15</td>\n      <td>11</td>\n      <td>4</td>\n      <td>17</td>\n      <td>17</td>\n      <td>2021</td>\n      <td>25.6</td>\n      <td>53.5</td>\n      <td>33.0</td>\n      <td>0.7</td>\n      <td>238</td>\n    </tr>\n  </tbody>\n</table>\n<p>995 rows × 14 columns</p>\n</div>"
     },
     "execution_count": 10,
     "metadata": {},
     "output_type": "execute_result"
    }
   ],
   "source": [
    "df[['driverCode', 'teamName', 'circuitName', 'raceName', 'lapTireChange']] = df[['driverCode', 'teamName', 'circuitName', 'raceName', 'lapTireChange']].apply(lambda col: pd.factorize(col)[0])\n",
    "df"
   ],
   "metadata": {
    "collapsed": false,
    "pycharm": {
     "name": "#%%\n"
    }
   }
  },
  {
   "cell_type": "code",
   "execution_count": 11,
   "outputs": [
    {
     "data": {
      "text/plain": "            raceId  driverCode    teamName  startingGridPosition    position  \\\ncount   995.000000  995.000000  995.000000            995.000000  995.000000   \nmean   1032.752764   13.812060    6.292462             10.007035    9.180905   \nstd      23.224198    8.122543    4.046746              5.838276    5.107835   \nmin     990.000000    0.000000    0.000000              0.000000    1.000000   \n25%    1014.000000    7.000000    3.000000              5.000000    5.000000   \n50%    1031.000000   14.000000    7.000000             10.000000    9.000000   \n75%    1054.000000   20.000000    9.000000             15.000000   13.000000   \nmax    1073.000000   31.000000   14.000000             20.000000   20.000000   \n\n       positionDiff  circuitName    raceName         year     AirTemp  \\\ncount    995.000000   995.000000  995.000000   995.000000  995.000000   \nmean       0.826131     9.828141   11.753769  2019.610050   23.710050   \nstd        4.153121     7.081419    8.508055     1.074068    4.394781   \nmin      -18.000000     0.000000    0.000000  2018.000000   15.500000   \n25%       -1.000000     4.000000    4.000000  2019.000000   20.400000   \n50%        1.000000     9.000000   10.000000  2020.000000   23.700000   \n75%        3.000000    15.000000   17.000000  2021.000000   27.600000   \nmax       17.000000    25.000000   30.000000  2021.000000   34.200000   \n\n         Humidity   TrackTemp   WindSpeed  lapTireChange  \ncount  995.000000  995.000000  995.000000     995.000000  \nmean    51.223015   38.302915    1.398392     322.553769  \nstd     14.518574    9.263006    0.979065     194.922778  \nmin     16.900000   18.200000    0.000000       0.000000  \n25%     40.000000   30.600000    0.600000     161.500000  \n50%     53.500000   38.500000    1.300000     294.000000  \n75%     60.200000   43.900000    2.100000     482.500000  \nmax     95.500000   57.000000    5.300000     698.000000  ",
      "text/html": "<div>\n<style scoped>\n    .dataframe tbody tr th:only-of-type {\n        vertical-align: middle;\n    }\n\n    .dataframe tbody tr th {\n        vertical-align: top;\n    }\n\n    .dataframe thead th {\n        text-align: right;\n    }\n</style>\n<table border=\"1\" class=\"dataframe\">\n  <thead>\n    <tr style=\"text-align: right;\">\n      <th></th>\n      <th>raceId</th>\n      <th>driverCode</th>\n      <th>teamName</th>\n      <th>startingGridPosition</th>\n      <th>position</th>\n      <th>positionDiff</th>\n      <th>circuitName</th>\n      <th>raceName</th>\n      <th>year</th>\n      <th>AirTemp</th>\n      <th>Humidity</th>\n      <th>TrackTemp</th>\n      <th>WindSpeed</th>\n      <th>lapTireChange</th>\n    </tr>\n  </thead>\n  <tbody>\n    <tr>\n      <th>count</th>\n      <td>995.000000</td>\n      <td>995.000000</td>\n      <td>995.000000</td>\n      <td>995.000000</td>\n      <td>995.000000</td>\n      <td>995.000000</td>\n      <td>995.000000</td>\n      <td>995.000000</td>\n      <td>995.000000</td>\n      <td>995.000000</td>\n      <td>995.000000</td>\n      <td>995.000000</td>\n      <td>995.000000</td>\n      <td>995.000000</td>\n    </tr>\n    <tr>\n      <th>mean</th>\n      <td>1032.752764</td>\n      <td>13.812060</td>\n      <td>6.292462</td>\n      <td>10.007035</td>\n      <td>9.180905</td>\n      <td>0.826131</td>\n      <td>9.828141</td>\n      <td>11.753769</td>\n      <td>2019.610050</td>\n      <td>23.710050</td>\n      <td>51.223015</td>\n      <td>38.302915</td>\n      <td>1.398392</td>\n      <td>322.553769</td>\n    </tr>\n    <tr>\n      <th>std</th>\n      <td>23.224198</td>\n      <td>8.122543</td>\n      <td>4.046746</td>\n      <td>5.838276</td>\n      <td>5.107835</td>\n      <td>4.153121</td>\n      <td>7.081419</td>\n      <td>8.508055</td>\n      <td>1.074068</td>\n      <td>4.394781</td>\n      <td>14.518574</td>\n      <td>9.263006</td>\n      <td>0.979065</td>\n      <td>194.922778</td>\n    </tr>\n    <tr>\n      <th>min</th>\n      <td>990.000000</td>\n      <td>0.000000</td>\n      <td>0.000000</td>\n      <td>0.000000</td>\n      <td>1.000000</td>\n      <td>-18.000000</td>\n      <td>0.000000</td>\n      <td>0.000000</td>\n      <td>2018.000000</td>\n      <td>15.500000</td>\n      <td>16.900000</td>\n      <td>18.200000</td>\n      <td>0.000000</td>\n      <td>0.000000</td>\n    </tr>\n    <tr>\n      <th>25%</th>\n      <td>1014.000000</td>\n      <td>7.000000</td>\n      <td>3.000000</td>\n      <td>5.000000</td>\n      <td>5.000000</td>\n      <td>-1.000000</td>\n      <td>4.000000</td>\n      <td>4.000000</td>\n      <td>2019.000000</td>\n      <td>20.400000</td>\n      <td>40.000000</td>\n      <td>30.600000</td>\n      <td>0.600000</td>\n      <td>161.500000</td>\n    </tr>\n    <tr>\n      <th>50%</th>\n      <td>1031.000000</td>\n      <td>14.000000</td>\n      <td>7.000000</td>\n      <td>10.000000</td>\n      <td>9.000000</td>\n      <td>1.000000</td>\n      <td>9.000000</td>\n      <td>10.000000</td>\n      <td>2020.000000</td>\n      <td>23.700000</td>\n      <td>53.500000</td>\n      <td>38.500000</td>\n      <td>1.300000</td>\n      <td>294.000000</td>\n    </tr>\n    <tr>\n      <th>75%</th>\n      <td>1054.000000</td>\n      <td>20.000000</td>\n      <td>9.000000</td>\n      <td>15.000000</td>\n      <td>13.000000</td>\n      <td>3.000000</td>\n      <td>15.000000</td>\n      <td>17.000000</td>\n      <td>2021.000000</td>\n      <td>27.600000</td>\n      <td>60.200000</td>\n      <td>43.900000</td>\n      <td>2.100000</td>\n      <td>482.500000</td>\n    </tr>\n    <tr>\n      <th>max</th>\n      <td>1073.000000</td>\n      <td>31.000000</td>\n      <td>14.000000</td>\n      <td>20.000000</td>\n      <td>20.000000</td>\n      <td>17.000000</td>\n      <td>25.000000</td>\n      <td>30.000000</td>\n      <td>2021.000000</td>\n      <td>34.200000</td>\n      <td>95.500000</td>\n      <td>57.000000</td>\n      <td>5.300000</td>\n      <td>698.000000</td>\n    </tr>\n  </tbody>\n</table>\n</div>"
     },
     "execution_count": 11,
     "metadata": {},
     "output_type": "execute_result"
    }
   ],
   "source": [
    "df.describe()"
   ],
   "metadata": {
    "collapsed": false,
    "pycharm": {
     "name": "#%%\n"
    }
   }
  },
  {
   "cell_type": "code",
   "execution_count": 13,
   "outputs": [
    {
     "data": {
      "text/plain": "<Figure size 432x288 with 16 Axes>",
      "image/png": "[encoded data removed]"
     },
     "metadata": {
      "needs_background": "light"
     },
     "output_type": "display_data"
    }
   ],
   "source": [
    "df.hist()\n",
    "pyplot.show()"
   ],
   "metadata": {
    "collapsed": false,
    "pycharm": {
     "name": "#%%\n"
    }
   }
  },
  {
   "cell_type": "code",
   "execution_count": 18,
   "outputs": [],
   "source": [
    "array = df.values\n",
    "x = array[:,0:13]\n",
    "y = array[:,13]\n",
    "x_train, x_validation, y_train, y_validation = train_test_split(x, y, test_size=0.20, random_state=1)"
   ],
   "metadata": {
    "collapsed": false,
    "pycharm": {
     "name": "#%%\n"
    }
   }
  },
  {
   "cell_type": "code",
   "execution_count": 19,
   "outputs": [
    {
     "name": "stderr",
     "output_type": "stream",
     "text": [
      "c:\\develop\\studies\\licencjat\\venv\\lib\\site-packages\\sklearn\\model_selection\\_split.py:676: UserWarning: The least populated class in y has only 1 members, which is less than n_splits=10.\n",
      "  warnings.warn(\n"
     ]
    },
    {
     "name": "stdout",
     "output_type": "stream",
     "text": [
      "LR: 0.028940 (0.012790)\n",
      "LDA: 0.028972 (0.018815)\n",
      "KNN: 0.038956 (0.013094)\n"
     ]
    },
    {
     "name": "stderr",
     "output_type": "stream",
     "text": [
      "c:\\develop\\studies\\licencjat\\venv\\lib\\site-packages\\sklearn\\model_selection\\_split.py:676: UserWarning: The least populated class in y has only 1 members, which is less than n_splits=10.\n",
      "  warnings.warn(\n",
      "c:\\develop\\studies\\licencjat\\venv\\lib\\site-packages\\sklearn\\model_selection\\_split.py:676: UserWarning: The least populated class in y has only 1 members, which is less than n_splits=10.\n",
      "  warnings.warn(\n",
      "c:\\develop\\studies\\licencjat\\venv\\lib\\site-packages\\sklearn\\model_selection\\_split.py:676: UserWarning: The least populated class in y has only 1 members, which is less than n_splits=10.\n",
      "  warnings.warn(\n"
     ]
    },
    {
     "name": "stdout",
     "output_type": "stream",
     "text": [
      "CART: 0.032658 (0.015054)\n"
     ]
    },
    {
     "name": "stderr",
     "output_type": "stream",
     "text": [
      "c:\\develop\\studies\\licencjat\\venv\\lib\\site-packages\\sklearn\\model_selection\\_split.py:676: UserWarning: The least populated class in y has only 1 members, which is less than n_splits=10.\n",
      "  warnings.warn(\n"
     ]
    },
    {
     "name": "stdout",
     "output_type": "stream",
     "text": [
      "NB: 0.032690 (0.017083)\n"
     ]
    },
    {
     "name": "stderr",
     "output_type": "stream",
     "text": [
      "c:\\develop\\studies\\licencjat\\venv\\lib\\site-packages\\sklearn\\model_selection\\_split.py:676: UserWarning: The least populated class in y has only 1 members, which is less than n_splits=10.\n",
      "  warnings.warn(\n"
     ]
    },
    {
     "name": "stdout",
     "output_type": "stream",
     "text": [
      "SVM: 0.012563 (0.000078)\n"
     ]
    }
   ],
   "source": [
    "models = [('LR', LogisticRegression(solver='liblinear', multi_class='ovr')), ('LDA', LinearDiscriminantAnalysis()),\n",
    "          ('KNN', KNeighborsClassifier()), ('CART', DecisionTreeClassifier()), ('NB', GaussianNB()),\n",
    "          ('SVM', SVC(gamma='auto'))]\n",
    "results = []\n",
    "names = []\n",
    "for name, model in models:\n",
    "    kfold = StratifiedKFold(n_splits=10, random_state=1, shuffle=True)\n",
    "    cv_results = cross_val_score(model, x_train, y_train, cv=kfold, scoring='accuracy')\n",
    "    results.append(cv_results)\n",
    "    names.append(name)\n",
    "    print('%s: %f (%f)' % (name, cv_results.mean(), cv_results.std()))"
   ],
   "metadata": {
    "collapsed": false,
    "pycharm": {
     "name": "#%%\n"
    }
   }
  },
  {
   "cell_type": "code",
   "execution_count": 27,
   "outputs": [
    {
     "data": {
      "text/plain": "array([  2., 435., 229., 642., 137., 639., 154., 299.,   2.,  46.,  78.,\n       117.,  56., 113., 424.,   0.,  88.,   4., 205., 155., 500., 646.,\n       565., 225., 155.,  97.,  94., 661., 432., 334., 176.,  78., 534.,\n       329., 299., 225.,  57., 167., 351., 249., 159., 565.,  56.,  83.,\n        82., 369., 577.,  37., 681., 354., 314.,  29., 435.,  35.,  80.,\n       664., 154., 484., 231., 494., 154., 192., 480., 476., 577., 481.,\n       354., 260., 247.,  18., 632., 568., 211., 664., 224.,  48., 165.,\n       238.,  59., 478., 211., 156., 604., 662., 246., 226., 254., 424.,\n       424., 476., 148., 148., 369., 681.,   2., 247.,   5., 534., 147.,\n        70., 159.,   4., 424.,  86., 577., 681., 154., 369., 157., 242.,\n       337., 565., 246.,  52., 238.,  94., 159., 327.,  99., 577., 148.,\n       223.,   1., 165., 225., 424., 241., 242., 254., 601., 242., 211.,\n         5.,   0., 597., 399., 568., 601., 249., 231.,  50.,  94., 154.,\n       661.,  95., 662., 337., 627., 209.,  59., 113., 154.,   0., 231.,\n        49., 231., 358., 152.,  58., 157.,  34., 148.,  97., 494., 154.,\n       353., 144.,   2., 154., 161., 166.,  48., 514., 430., 231., 162.,\n       148., 268., 155., 664., 154.,  46., 510., 379., 247., 154., 157.,\n       123., 389.,   5., 167., 268., 157.,   5., 681., 185., 154., 231.,\n       152.])"
     },
     "execution_count": 27,
     "metadata": {},
     "output_type": "execute_result"
    }
   ],
   "source": [
    "model = KNeighborsClassifier()\n",
    "model.fit(x_train, y_train)\n",
    "predictions = model.predict(x_validation)\n",
    "predictions"
   ],
   "metadata": {
    "collapsed": false,
    "pycharm": {
     "name": "#%%\n"
    }
   }
  },
  {
   "cell_type": "code",
   "execution_count": 26,
   "outputs": [
    {
     "name": "stdout",
     "output_type": "stream",
     "text": [
      "0.04522613065326633\n"
     ]
    }
   ],
   "source": [
    "print(accuracy_score(y_validation, predictions))"
   ],
   "metadata": {
    "collapsed": false,
    "pycharm": {
     "name": "#%%\n"
    }
   }
  }
 ],
 "metadata": {
  "kernelspec": {
   "display_name": "Python 3",
   "language": "python",
   "name": "python3"
  },
  "language_info": {
   "codemirror_mode": {
    "name": "ipython",
    "version": 2
   },
   "file_extension": ".py",
   "mimetype": "text/x-python",
   "name": "python",
   "nbconvert_exporter": "python",
   "pygments_lexer": "ipython2",
   "version": "2.7.6"
  }
 },
 "nbformat": 4,
 "nbformat_minor": 0
}