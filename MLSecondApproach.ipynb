{
 "cells": [
  {
   "cell_type": "code",
   "execution_count": 2,
   "metadata": {
    "collapsed": true
   },
   "outputs": [],
   "source": [
    "import pandas as pd\n",
    "from matplotlib import pyplot"
   ]
  },
  {
   "cell_type": "code",
   "execution_count": 3,
   "outputs": [
    {
     "data": {
      "text/plain": "     driverCode      teamName  startingGridPosition  \\\n15          ALO       McLaren                    13   \n16          BOT      Mercedes                     3   \n17          ERI        Sauber                    17   \n18          GAS    Toro Rosso                     5   \n19          GRO  Haas F1 Team                    16   \n...         ...           ...                   ...   \n1340        SAI       Ferrari                     5   \n1341        STR  Aston Martin                    13   \n1342        TSU    AlphaTauri                     8   \n1343        VER      Red Bull                     1   \n1344        VET  Aston Martin                    15   \n\n                        circuitName  AirTemp  Humidity  TrackTemp  WindSpeed  \\\n15    Bahrain International Circuit     28.0      46.4       33.5        1.5   \n16    Bahrain International Circuit     28.0      46.4       33.5        1.5   \n17    Bahrain International Circuit     28.0      46.4       33.5        1.5   \n18    Bahrain International Circuit     28.0      46.4       33.5        1.5   \n19    Bahrain International Circuit     28.0      46.4       33.5        1.5   \n...                             ...      ...       ...        ...        ...   \n1340             Yas Marina Circuit     25.6      53.5       33.0        0.7   \n1341             Yas Marina Circuit     25.6      53.5       33.0        0.7   \n1342             Yas Marina Circuit     25.6      53.5       33.0        0.7   \n1343             Yas Marina Circuit     25.6      53.5       33.0        0.7   \n1344             Yas Marina Circuit     25.6      53.5       33.0        0.7   \n\n                                       lapTireChange  \n15                14: SOFT->MEDIUM, 39: MEDIUM->SOFT  \n16                                  20: SOFT->MEDIUM  \n17                                  23: SOFT->MEDIUM  \n18                    15: SOFT->SOFT, 34: SOFT->SOFT  \n19    18: SOFT->SOFT, 30: SOFT->SOFT, 45: SOFT->SOFT  \n...                                              ...  \n1340                                  19: SOFT->HARD  \n1341                21: MEDIUM->HARD, 52: HARD->SOFT  \n1342                23: MEDIUM->HARD, 53: HARD->SOFT  \n1343  13: SOFT->HARD, 36: HARD->HARD, 53: HARD->SOFT  \n1344                                23: MEDIUM->HARD  \n\n[951 rows x 9 columns]",
      "text/html": "<div>\n<style scoped>\n    .dataframe tbody tr th:only-of-type {\n        vertical-align: middle;\n    }\n\n    .dataframe tbody tr th {\n        vertical-align: top;\n    }\n\n    .dataframe thead th {\n        text-align: right;\n    }\n</style>\n<table border=\"1\" class=\"dataframe\">\n  <thead>\n    <tr style=\"text-align: right;\">\n      <th></th>\n      <th>driverCode</th>\n      <th>teamName</th>\n      <th>startingGridPosition</th>\n      <th>circuitName</th>\n      <th>AirTemp</th>\n      <th>Humidity</th>\n      <th>TrackTemp</th>\n      <th>WindSpeed</th>\n      <th>lapTireChange</th>\n    </tr>\n  </thead>\n  <tbody>\n    <tr>\n      <th>15</th>\n      <td>ALO</td>\n      <td>McLaren</td>\n      <td>13</td>\n      <td>Bahrain International Circuit</td>\n      <td>28.0</td>\n      <td>46.4</td>\n      <td>33.5</td>\n      <td>1.5</td>\n      <td>14: SOFT-&gt;MEDIUM, 39: MEDIUM-&gt;SOFT</td>\n    </tr>\n    <tr>\n      <th>16</th>\n      <td>BOT</td>\n      <td>Mercedes</td>\n      <td>3</td>\n      <td>Bahrain International Circuit</td>\n      <td>28.0</td>\n      <td>46.4</td>\n      <td>33.5</td>\n      <td>1.5</td>\n      <td>20: SOFT-&gt;MEDIUM</td>\n    </tr>\n    <tr>\n      <th>17</th>\n      <td>ERI</td>\n      <td>Sauber</td>\n      <td>17</td>\n      <td>Bahrain International Circuit</td>\n      <td>28.0</td>\n      <td>46.4</td>\n      <td>33.5</td>\n      <td>1.5</td>\n      <td>23: SOFT-&gt;MEDIUM</td>\n    </tr>\n    <tr>\n      <th>18</th>\n      <td>GAS</td>\n      <td>Toro Rosso</td>\n      <td>5</td>\n      <td>Bahrain International Circuit</td>\n      <td>28.0</td>\n      <td>46.4</td>\n      <td>33.5</td>\n      <td>1.5</td>\n      <td>15: SOFT-&gt;SOFT, 34: SOFT-&gt;SOFT</td>\n    </tr>\n    <tr>\n      <th>19</th>\n      <td>GRO</td>\n      <td>Haas F1 Team</td>\n      <td>16</td>\n      <td>Bahrain International Circuit</td>\n      <td>28.0</td>\n      <td>46.4</td>\n      <td>33.5</td>\n      <td>1.5</td>\n      <td>18: SOFT-&gt;SOFT, 30: SOFT-&gt;SOFT, 45: SOFT-&gt;SOFT</td>\n    </tr>\n    <tr>\n      <th>...</th>\n      <td>...</td>\n      <td>...</td>\n      <td>...</td>\n      <td>...</td>\n      <td>...</td>\n      <td>...</td>\n      <td>...</td>\n      <td>...</td>\n      <td>...</td>\n    </tr>\n    <tr>\n      <th>1340</th>\n      <td>SAI</td>\n      <td>Ferrari</td>\n      <td>5</td>\n      <td>Yas Marina Circuit</td>\n      <td>25.6</td>\n      <td>53.5</td>\n      <td>33.0</td>\n      <td>0.7</td>\n      <td>19: SOFT-&gt;HARD</td>\n    </tr>\n    <tr>\n      <th>1341</th>\n      <td>STR</td>\n      <td>Aston Martin</td>\n      <td>13</td>\n      <td>Yas Marina Circuit</td>\n      <td>25.6</td>\n      <td>53.5</td>\n      <td>33.0</td>\n      <td>0.7</td>\n      <td>21: MEDIUM-&gt;HARD, 52: HARD-&gt;SOFT</td>\n    </tr>\n    <tr>\n      <th>1342</th>\n      <td>TSU</td>\n      <td>AlphaTauri</td>\n      <td>8</td>\n      <td>Yas Marina Circuit</td>\n      <td>25.6</td>\n      <td>53.5</td>\n      <td>33.0</td>\n      <td>0.7</td>\n      <td>23: MEDIUM-&gt;HARD, 53: HARD-&gt;SOFT</td>\n    </tr>\n    <tr>\n      <th>1343</th>\n      <td>VER</td>\n      <td>Red Bull</td>\n      <td>1</td>\n      <td>Yas Marina Circuit</td>\n      <td>25.6</td>\n      <td>53.5</td>\n      <td>33.0</td>\n      <td>0.7</td>\n      <td>13: SOFT-&gt;HARD, 36: HARD-&gt;HARD, 53: HARD-&gt;SOFT</td>\n    </tr>\n    <tr>\n      <th>1344</th>\n      <td>VET</td>\n      <td>Aston Martin</td>\n      <td>15</td>\n      <td>Yas Marina Circuit</td>\n      <td>25.6</td>\n      <td>53.5</td>\n      <td>33.0</td>\n      <td>0.7</td>\n      <td>23: MEDIUM-&gt;HARD</td>\n    </tr>\n  </tbody>\n</table>\n<p>951 rows × 9 columns</p>\n</div>"
     },
     "execution_count": 3,
     "metadata": {},
     "output_type": "execute_result"
    }
   ],
   "source": [
    "df = pd.read_csv('grouped_data.csv', index_col=0)\n",
    "df.drop(['WasRainingDuringRaceAnyTime'], axis=1, inplace=True)\n",
    "df = df.loc[df['lapTireChange'].str.count(':') <= 3]\n",
    "df['lapTireChange'] = df['lapTireChange'].str.replace('HYPERSOFT', 'SOFT').str.strip()\n",
    "df['lapTireChange'] = df['lapTireChange'].str.replace('SUPERSOFT', 'SOFT').str.strip()\n",
    "df['lapTireChange'] = df['lapTireChange'].str.replace('ULTRASOFT', 'SOFT').str.strip()\n",
    "\n",
    "quali_result_corr = df[['startingGridPosition', 'position']]\n",
    "quali_result_corr.corr(method='pearson')['position'].iloc[0]\n",
    "\n",
    "df.drop(['position'], axis=1, inplace=True)\n",
    "df.drop(['positionDiff'], axis=1, inplace=True)\n",
    "df.drop(['raceId'], axis=1, inplace=True)\n",
    "df.drop(['year'], axis=1, inplace=True)\n",
    "df.drop(['raceName'], axis=1, inplace=True)\n",
    "df"
   ],
   "metadata": {
    "collapsed": false,
    "pycharm": {
     "name": "#%%\n"
    }
   }
  },
  {
   "cell_type": "code",
   "execution_count": 4,
   "outputs": [
    {
     "data": {
      "text/plain": "      driverCode  teamName  startingGridPosition  circuitName  AirTemp  \\\n15             2         7                    13            6     28.0   \n16             3         8                     3            6     28.0   \n17             4        12                    17            6     28.0   \n18             6        13                     5            6     28.0   \n19             8         6                    16            6     28.0   \n...          ...       ...                   ...          ...      ...   \n1340          25         4                     5           24     25.6   \n1341          27         3                    13           24     25.6   \n1342          28         1                     8           24     25.6   \n1343          30        10                     1           24     25.6   \n1344          31         3                    15           24     25.6   \n\n      Humidity  TrackTemp  WindSpeed  lapTireChange  \n15        46.4       33.5        1.5            116  \n16        46.4       33.5        1.5            265  \n17        46.4       33.5        1.5            330  \n18        46.4       33.5        1.5              3  \n19        46.4       33.5        1.5            188  \n...        ...        ...        ...            ...  \n1340      53.5       33.0        0.7            193  \n1341      53.5       33.0        0.7            279  \n1342      53.5       33.0        0.7            325  \n1343      53.5       33.0        0.7             85  \n1344      53.5       33.0        0.7            321  \n\n[951 rows x 9 columns]",
      "text/html": "<div>\n<style scoped>\n    .dataframe tbody tr th:only-of-type {\n        vertical-align: middle;\n    }\n\n    .dataframe tbody tr th {\n        vertical-align: top;\n    }\n\n    .dataframe thead th {\n        text-align: right;\n    }\n</style>\n<table border=\"1\" class=\"dataframe\">\n  <thead>\n    <tr style=\"text-align: right;\">\n      <th></th>\n      <th>driverCode</th>\n      <th>teamName</th>\n      <th>startingGridPosition</th>\n      <th>circuitName</th>\n      <th>AirTemp</th>\n      <th>Humidity</th>\n      <th>TrackTemp</th>\n      <th>WindSpeed</th>\n      <th>lapTireChange</th>\n    </tr>\n  </thead>\n  <tbody>\n    <tr>\n      <th>15</th>\n      <td>2</td>\n      <td>7</td>\n      <td>13</td>\n      <td>6</td>\n      <td>28.0</td>\n      <td>46.4</td>\n      <td>33.5</td>\n      <td>1.5</td>\n      <td>116</td>\n    </tr>\n    <tr>\n      <th>16</th>\n      <td>3</td>\n      <td>8</td>\n      <td>3</td>\n      <td>6</td>\n      <td>28.0</td>\n      <td>46.4</td>\n      <td>33.5</td>\n      <td>1.5</td>\n      <td>265</td>\n    </tr>\n    <tr>\n      <th>17</th>\n      <td>4</td>\n      <td>12</td>\n      <td>17</td>\n      <td>6</td>\n      <td>28.0</td>\n      <td>46.4</td>\n      <td>33.5</td>\n      <td>1.5</td>\n      <td>330</td>\n    </tr>\n    <tr>\n      <th>18</th>\n      <td>6</td>\n      <td>13</td>\n      <td>5</td>\n      <td>6</td>\n      <td>28.0</td>\n      <td>46.4</td>\n      <td>33.5</td>\n      <td>1.5</td>\n      <td>3</td>\n    </tr>\n    <tr>\n      <th>19</th>\n      <td>8</td>\n      <td>6</td>\n      <td>16</td>\n      <td>6</td>\n      <td>28.0</td>\n      <td>46.4</td>\n      <td>33.5</td>\n      <td>1.5</td>\n      <td>188</td>\n    </tr>\n    <tr>\n      <th>...</th>\n      <td>...</td>\n      <td>...</td>\n      <td>...</td>\n      <td>...</td>\n      <td>...</td>\n      <td>...</td>\n      <td>...</td>\n      <td>...</td>\n      <td>...</td>\n    </tr>\n    <tr>\n      <th>1340</th>\n      <td>25</td>\n      <td>4</td>\n      <td>5</td>\n      <td>24</td>\n      <td>25.6</td>\n      <td>53.5</td>\n      <td>33.0</td>\n      <td>0.7</td>\n      <td>193</td>\n    </tr>\n    <tr>\n      <th>1341</th>\n      <td>27</td>\n      <td>3</td>\n      <td>13</td>\n      <td>24</td>\n      <td>25.6</td>\n      <td>53.5</td>\n      <td>33.0</td>\n      <td>0.7</td>\n      <td>279</td>\n    </tr>\n    <tr>\n      <th>1342</th>\n      <td>28</td>\n      <td>1</td>\n      <td>8</td>\n      <td>24</td>\n      <td>25.6</td>\n      <td>53.5</td>\n      <td>33.0</td>\n      <td>0.7</td>\n      <td>325</td>\n    </tr>\n    <tr>\n      <th>1343</th>\n      <td>30</td>\n      <td>10</td>\n      <td>1</td>\n      <td>24</td>\n      <td>25.6</td>\n      <td>53.5</td>\n      <td>33.0</td>\n      <td>0.7</td>\n      <td>85</td>\n    </tr>\n    <tr>\n      <th>1344</th>\n      <td>31</td>\n      <td>3</td>\n      <td>15</td>\n      <td>24</td>\n      <td>25.6</td>\n      <td>53.5</td>\n      <td>33.0</td>\n      <td>0.7</td>\n      <td>321</td>\n    </tr>\n  </tbody>\n</table>\n<p>951 rows × 9 columns</p>\n</div>"
     },
     "execution_count": 4,
     "metadata": {},
     "output_type": "execute_result"
    }
   ],
   "source": [
    "factorizedDriverCode, driverCodeLabel = pd.factorize(df['driverCode'], sort=True)\n",
    "factorizedTeamName, teamNameLabel = pd.factorize(df['teamName'], sort=True)\n",
    "factorizedCircuitName, circuitNameLabel = pd.factorize(df['circuitName'], sort=True)\n",
    "factorizedLapTireChange, lapTireChangeLabel = pd.factorize(df['lapTireChange'], sort=True, na_sentinel=3)\n",
    "df['driverCode'] = factorizedDriverCode\n",
    "df['teamName'] = factorizedTeamName\n",
    "df['circuitName'] = factorizedCircuitName\n",
    "df['lapTireChange'] = factorizedLapTireChange\n",
    "df"
   ],
   "metadata": {
    "collapsed": false,
    "pycharm": {
     "name": "#%%\n"
    }
   }
  },
  {
   "cell_type": "code",
   "execution_count": 5,
   "outputs": [
    {
     "data": {
      "text/plain": "       driverCode    teamName  startingGridPosition  circuitName     AirTemp  \\\ncount  951.000000  951.000000            951.000000   951.000000  951.000000   \nmean    16.750789    7.311251             10.033649    12.426919   23.635121   \nstd      8.944504    4.204242              5.796453     7.127904    4.405347   \nmin      0.000000    0.000000              0.000000     0.000000   15.500000   \n25%      9.000000    4.000000              5.000000     6.000000   20.400000   \n50%     18.000000    7.000000             10.000000    13.000000   23.200000   \n75%     24.000000   10.000000             15.000000    19.000000   27.600000   \nmax     31.000000   14.000000             20.000000    24.000000   34.200000   \n\n         Humidity   TrackTemp   WindSpeed  lapTireChange  \ncount  951.000000  951.000000  951.000000     951.000000  \nmean    51.307676   37.952050    1.417666     302.219769  \nstd     14.703399    9.109017    0.981301     173.808670  \nmin     16.900000   18.200000    0.000000       0.000000  \n25%     40.000000   30.600000    0.700000     147.000000  \n50%     53.500000   37.300000    1.300000     318.000000  \n75%     60.400000   43.900000    2.100000     447.500000  \nmax     95.500000   57.000000    5.300000     619.000000  ",
      "text/html": "<div>\n<style scoped>\n    .dataframe tbody tr th:only-of-type {\n        vertical-align: middle;\n    }\n\n    .dataframe tbody tr th {\n        vertical-align: top;\n    }\n\n    .dataframe thead th {\n        text-align: right;\n    }\n</style>\n<table border=\"1\" class=\"dataframe\">\n  <thead>\n    <tr style=\"text-align: right;\">\n      <th></th>\n      <th>driverCode</th>\n      <th>teamName</th>\n      <th>startingGridPosition</th>\n      <th>circuitName</th>\n      <th>AirTemp</th>\n      <th>Humidity</th>\n      <th>TrackTemp</th>\n      <th>WindSpeed</th>\n      <th>lapTireChange</th>\n    </tr>\n  </thead>\n  <tbody>\n    <tr>\n      <th>count</th>\n      <td>951.000000</td>\n      <td>951.000000</td>\n      <td>951.000000</td>\n      <td>951.000000</td>\n      <td>951.000000</td>\n      <td>951.000000</td>\n      <td>951.000000</td>\n      <td>951.000000</td>\n      <td>951.000000</td>\n    </tr>\n    <tr>\n      <th>mean</th>\n      <td>16.750789</td>\n      <td>7.311251</td>\n      <td>10.033649</td>\n      <td>12.426919</td>\n      <td>23.635121</td>\n      <td>51.307676</td>\n      <td>37.952050</td>\n      <td>1.417666</td>\n      <td>302.219769</td>\n    </tr>\n    <tr>\n      <th>std</th>\n      <td>8.944504</td>\n      <td>4.204242</td>\n      <td>5.796453</td>\n      <td>7.127904</td>\n      <td>4.405347</td>\n      <td>14.703399</td>\n      <td>9.109017</td>\n      <td>0.981301</td>\n      <td>173.808670</td>\n    </tr>\n    <tr>\n      <th>min</th>\n      <td>0.000000</td>\n      <td>0.000000</td>\n      <td>0.000000</td>\n      <td>0.000000</td>\n      <td>15.500000</td>\n      <td>16.900000</td>\n      <td>18.200000</td>\n      <td>0.000000</td>\n      <td>0.000000</td>\n    </tr>\n    <tr>\n      <th>25%</th>\n      <td>9.000000</td>\n      <td>4.000000</td>\n      <td>5.000000</td>\n      <td>6.000000</td>\n      <td>20.400000</td>\n      <td>40.000000</td>\n      <td>30.600000</td>\n      <td>0.700000</td>\n      <td>147.000000</td>\n    </tr>\n    <tr>\n      <th>50%</th>\n      <td>18.000000</td>\n      <td>7.000000</td>\n      <td>10.000000</td>\n      <td>13.000000</td>\n      <td>23.200000</td>\n      <td>53.500000</td>\n      <td>37.300000</td>\n      <td>1.300000</td>\n      <td>318.000000</td>\n    </tr>\n    <tr>\n      <th>75%</th>\n      <td>24.000000</td>\n      <td>10.000000</td>\n      <td>15.000000</td>\n      <td>19.000000</td>\n      <td>27.600000</td>\n      <td>60.400000</td>\n      <td>43.900000</td>\n      <td>2.100000</td>\n      <td>447.500000</td>\n    </tr>\n    <tr>\n      <th>max</th>\n      <td>31.000000</td>\n      <td>14.000000</td>\n      <td>20.000000</td>\n      <td>24.000000</td>\n      <td>34.200000</td>\n      <td>95.500000</td>\n      <td>57.000000</td>\n      <td>5.300000</td>\n      <td>619.000000</td>\n    </tr>\n  </tbody>\n</table>\n</div>"
     },
     "execution_count": 5,
     "metadata": {},
     "output_type": "execute_result"
    }
   ],
   "source": [
    "df.describe()"
   ],
   "metadata": {
    "collapsed": false,
    "pycharm": {
     "name": "#%%\n"
    }
   }
  },
  {
   "cell_type": "code",
   "execution_count": 6,
   "outputs": [
    {
     "data": {
      "text/plain": "<Figure size 432x288 with 9 Axes>",
      "image/png": "[encoded data removed]"
     },
     "metadata": {
      "needs_background": "light"
     },
     "output_type": "display_data"
    }
   ],
   "source": [
    "df.hist()\n",
    "pyplot.show()"
   ],
   "metadata": {
    "collapsed": false,
    "pycharm": {
     "name": "#%%\n"
    }
   }
  },
  {
   "cell_type": "code",
   "execution_count": 7,
   "outputs": [
    {
     "data": {
      "text/plain": "array([[116.],\n       [265.],\n       [330.],\n       [  3.],\n       [188.],\n       [382.],\n       [271.],\n       [136.],\n       [530.],\n       [ 98.],\n       [131.],\n       [614.],\n       [148.],\n       [314.],\n       [ 22.],\n       [ 20.],\n       [187.],\n       [255.],\n       [ 67.],\n       [319.],\n       [246.],\n       [350.],\n       [254.],\n       [457.],\n       [255.],\n       [137.],\n       [338.],\n       [467.],\n       [511.],\n       [244.],\n       [337.],\n       [555.],\n       [147.],\n       [ 97.],\n       [204.],\n       [318.],\n       [ 40.],\n       [619.],\n       [488.],\n       [165.],\n       [117.],\n       [387.],\n       [256.],\n       [147.],\n       [519.],\n       [133.],\n       [547.],\n       [133.],\n       [133.],\n       [133.],\n       [418.],\n       [133.],\n       [404.],\n       [133.],\n       [  3.],\n       [351.],\n       [138.],\n       [255.],\n       [133.],\n       [133.],\n       [ 92.],\n       [285.],\n       [266.],\n       [361.],\n       [258.],\n       [361.],\n       [198.],\n       [ 92.],\n       [ 93.],\n       [185.],\n       [285.],\n       [463.],\n       [286.],\n       [267.],\n       [527.],\n       [133.],\n       [576.],\n       [488.],\n       [427.],\n       [365.],\n       [344.],\n       [334.],\n       [481.],\n       [528.],\n       [318.],\n       [119.],\n       [543.],\n       [361.],\n       [478.],\n       [552.],\n       [528.],\n       [252.],\n       [250.],\n       [249.],\n       [247.],\n       [245.],\n       [253.],\n       [250.],\n       [248.],\n       [249.],\n       [243.],\n       [248.],\n       [247.],\n       [251.],\n       [250.],\n       [257.],\n       [521.],\n       [147.],\n       [543.],\n       [387.],\n       [147.],\n       [133.],\n       [118.],\n       [133.],\n       [521.],\n       [388.],\n       [166.],\n       [318.],\n       [404.],\n       [519.],\n       [532.],\n       [536.],\n       [541.],\n       [165.],\n       [117.],\n       [382.],\n       [330.],\n       [568.],\n       [427.],\n       [425.],\n       [344.],\n       [418.],\n       [382.],\n       [349.],\n       [161.],\n       [337.],\n       [487.],\n       [560.],\n       [116.],\n       [330.],\n       [295.],\n       [387.],\n       [337.],\n       [466.],\n       [ 23.],\n       [ 41.],\n       [404.],\n       [337.],\n       [365.],\n       [295.],\n       [349.],\n       [ 21.],\n       [242.],\n       [ 24.],\n       [318.],\n       [387.],\n       [ 43.],\n       [147.],\n       [569.],\n       [544.],\n       [ 42.],\n       [240.],\n       [ 66.],\n       [ 97.],\n       [541.],\n       [241.],\n       [165.],\n       [ 40.],\n       [ 19.],\n       [ 66.],\n       [100.],\n       [167.],\n       [112.],\n       [330.],\n       [516.],\n       [394.],\n       [128.],\n       [ 84.],\n       [207.],\n       [375.],\n       [411.],\n       [112.],\n       [126.],\n       [ 84.],\n       [ 57.],\n       [379.],\n       [390.],\n       [361.],\n       [112.],\n       [617.],\n       [ 64.],\n       [618.],\n       [146.],\n       [ 99.],\n       [ 30.],\n       [ 65.],\n       [ 95.],\n       [ 18.],\n       [ 17.],\n       [597.],\n       [615.],\n       [ 60.],\n       [234.],\n       [ 39.],\n       [115.],\n       [193.],\n       [277.],\n       [195.],\n       [587.],\n       [596.],\n       [305.],\n       [375.],\n       [306.],\n       [608.],\n       [209.],\n       [258.],\n       [353.],\n       [178.],\n       [307.],\n       [215.],\n       [261.],\n       [151.],\n       [173.],\n       [ 57.],\n       [ 57.],\n       [585.],\n       [ 88.],\n       [598.],\n       [105.],\n       [498.],\n       [588.],\n       [616.],\n       [ 16.],\n       [576.],\n       [358.],\n       [ 57.],\n       [ 16.],\n       [112.],\n       [ 37.],\n       [362.],\n       [383.],\n       [316.],\n       [575.],\n       [384.],\n       [400.],\n       [503.],\n       [476.],\n       [292.],\n       [360.],\n       [331.],\n       [345.],\n       [407.],\n       [343.],\n       [484.],\n       [346.],\n       [272.],\n       [200.],\n       [462.],\n       [582.],\n       [489.],\n       [495.],\n       [406.],\n       [144.],\n       [592.],\n       [ 44.],\n       [490.],\n       [522.],\n       [ 25.],\n       [573.],\n       [594.],\n       [600.],\n       [531.],\n       [545.],\n       [553.],\n       [375.],\n       [353.],\n       [321.],\n       [158.],\n       [583.],\n       [468.],\n       [340.],\n       [493.],\n       [340.],\n       [482.],\n       [276.],\n       [139.],\n       [168.],\n       [168.],\n       [468.],\n       [139.],\n       [354.],\n       [190.],\n       [522.],\n       [258.],\n       [355.],\n       [502.],\n       [276.],\n       [359.],\n       [342.],\n       [495.],\n       [460.],\n       [375.],\n       [190.],\n       [483.],\n       [308.],\n       [ 32.],\n       [361.],\n       [406.],\n       [329.],\n       [549.],\n       [390.],\n       [537.],\n       [353.],\n       [470.],\n       [284.],\n       [ 88.],\n       [143.],\n       [ 44.],\n       [258.],\n       [ 84.],\n       [258.],\n       [ 59.],\n       [ 89.],\n       [ 94.],\n       [169.],\n       [150.],\n       [ 58.],\n       [276.],\n       [258.],\n       [ 79.],\n       [ 83.],\n       [264.],\n       [406.],\n       [567.],\n       [406.],\n       [120.],\n       [472.],\n       [510.],\n       [168.],\n       [276.],\n       [390.],\n       [520.],\n       [411.],\n       [168.],\n       [425.],\n       [548.],\n       [139.],\n       [423.],\n       [142.],\n       [357.],\n       [526.],\n       [328.],\n       [330.],\n       [ 88.],\n       [421.],\n       [145.],\n       [309.],\n       [ 38.],\n       [475.],\n       [341.],\n       [285.],\n       [361.],\n       [198.],\n       [128.],\n       [235.],\n       [232.],\n       [463.],\n       [113.],\n       [129.],\n       [382.],\n       [397.],\n       [409.],\n       [285.],\n       [586.],\n       [203.],\n       [425.],\n       [422.],\n       [263.],\n       [321.],\n       [409.],\n       [192.],\n       [465.],\n       [321.],\n       [134.],\n       [228.],\n       [574.],\n       [263.],\n       [308.],\n       [482.],\n       [496.],\n       [322.],\n       [380.],\n       [230.],\n       [278.],\n       [ 49.],\n       [263.],\n       [176.],\n       [263.],\n       [495.],\n       [500.],\n       [471.],\n       [193.],\n       [193.],\n       [130.],\n       [162.],\n       [184.],\n       [175.],\n       [144.],\n       [291.],\n       [304.],\n       [397.],\n       [529.],\n       [155.],\n       [559.],\n       [201.],\n       [124.],\n       [353.],\n       [382.],\n       [184.],\n       [149.],\n       [108.],\n       [509.],\n       [611.],\n       [276.],\n       [515.],\n       [321.],\n       [168.],\n       [280.],\n       [ 13.],\n       [125.],\n       [406.],\n       [258.],\n       [561.],\n       [301.],\n       [127.],\n       [515.],\n       [565.],\n       [515.],\n       [233.],\n       [102.],\n       [197.],\n       [153.],\n       [340.],\n       [340.],\n       [389.],\n       [274.],\n       [260.],\n       [174.],\n       [196.],\n       [340.],\n       [179.],\n       [282.],\n       [323.],\n       [178.],\n       [603.],\n       [ 77.],\n       [347.],\n       [317.],\n       [269.],\n       [386.],\n       [273.],\n       [391.],\n       [324.],\n       [420.],\n       [402.],\n       [396.],\n       [163.],\n       [293.],\n       [593.],\n       [327.],\n       [425.],\n       [415.],\n       [297.],\n       [364.],\n       [ 69.],\n       [419.],\n       [595.],\n       [168.],\n       [375.],\n       [184.],\n       [339.],\n       [533.],\n       [ 50.],\n       [258.],\n       [594.],\n       [515.],\n       [301.],\n       [ 34.],\n       [482.],\n       [ 56.],\n       [353.],\n       [ 55.],\n       [368.],\n       [372.],\n       [372.],\n       [352.],\n       [372.],\n       [369.],\n       [370.],\n       [367.],\n       [366.],\n       [372.],\n       [378.],\n       [371.],\n       [369.],\n       [572.],\n       [ 81.],\n       [ 44.],\n       [ 44.],\n       [509.],\n       [ 69.],\n       [ 44.],\n       [ 69.],\n       [ 54.],\n       [ 54.],\n       [ 51.],\n       [ 54.],\n       [ 44.],\n       [ 87.],\n       [ 69.],\n       [ 81.],\n       [ 54.],\n       [571.],\n       [ 76.],\n       [577.],\n       [578.],\n       [152.],\n       [104.],\n       [121.],\n       [189.],\n       [602.],\n       [168.],\n       [ 45.],\n       [301.],\n       [373.],\n       [106.],\n       [590.],\n       [300.],\n       [171.],\n       [374.],\n       [298.],\n       [159.],\n       [332.],\n       [290.],\n       [281.],\n       [485.],\n       [333.],\n       [292.],\n       [410.],\n       [412.],\n       [296.],\n       [497.],\n       [425.],\n       [262.],\n       [503.],\n       [199.],\n       [320.],\n       [399.],\n       [289.],\n       [421.],\n       [ 37.],\n       [ 25.],\n       [373.],\n       [  0.],\n       [ 25.],\n       [ 25.],\n       [  6.],\n       [ 12.],\n       [  8.],\n       [ 31.],\n       [ 31.],\n       [178.],\n       [  0.],\n       [ 31.],\n       [ 31.],\n       [ 25.],\n       [ 25.],\n       [310.],\n       [311.],\n       [194.],\n       [259.],\n       [302.],\n       [376.],\n       [299.],\n       [140.],\n       [311.],\n       [312.],\n       [311.],\n       [170.],\n       [311.],\n       [303.],\n       [311.],\n       [382.],\n       [229.],\n       [375.],\n       [180.],\n       [139.],\n       [154.],\n       [144.],\n       [458.],\n       [150.],\n       [406.],\n       [190.],\n       [231.],\n       [178.],\n       [263.],\n       [500.],\n       [126.],\n       [208.],\n       [353.],\n       [460.],\n       [202.],\n       [537.],\n       [412.],\n       [406.],\n       [375.],\n       [535.],\n       [356.],\n       [340.],\n       [495.],\n       [468.],\n       [181.],\n       [563.],\n       [237.],\n       [ 37.],\n       [112.],\n       [509.],\n       [382.],\n       [330.],\n       [390.],\n       [111.],\n       [191.],\n       [ 16.],\n       [606.],\n       [461.],\n       [110.],\n       [495.],\n       [ 84.],\n       [ 96.],\n       [392.],\n       [554.],\n       [109.],\n       [164.],\n       [214.],\n       [525.],\n       [221.],\n       [212.],\n       [225.],\n       [222.],\n       [226.],\n       [205.],\n       [206.],\n       [220.],\n       [219.],\n       [223.],\n       [218.],\n       [217.],\n       [224.],\n       [239.],\n       [210.],\n       [473.],\n       [551.],\n       [556.],\n       [479.],\n       [414.],\n       [377.],\n       [401.],\n       [385.],\n       [270.],\n       [537.],\n       [238.],\n       [326.],\n       [426.],\n       [416.],\n       [539.],\n       [474.],\n       [ 10.],\n       [  0.],\n       [  7.],\n       [ 10.],\n       [390.],\n       [  0.],\n       [ 10.],\n       [ 28.],\n       [301.],\n       [469.],\n       [ 10.],\n       [  0.],\n       [  9.],\n       [522.],\n       [  0.],\n       [  0.],\n       [ 10.],\n       [  0.],\n       [500.],\n       [141.],\n       [557.],\n       [ 46.],\n       [ 74.],\n       [114.],\n       [ 62.],\n       [107.],\n       [ 63.],\n       [ 90.],\n       [430.],\n       [ 75.],\n       [ 91.],\n       [ 95.],\n       [132.],\n       [ 61.],\n       [122.],\n       [157.],\n       [340.],\n       [449.],\n       [455.],\n       [443.],\n       [448.],\n       [444.],\n       [445.],\n       [447.],\n       [454.],\n       [453.],\n       [451.],\n       [450.],\n       [446.],\n       [452.],\n       [456.],\n       [442.],\n       [454.],\n       [294.],\n       [336.],\n       [186.],\n       [599.],\n       [413.],\n       [612.],\n       [417.],\n       [315.],\n       [333.],\n       [335.],\n       [330.],\n       [403.],\n       [516.],\n       [363.],\n       [613.],\n       [316.],\n       [313.],\n       [348.],\n       [287.],\n       [546.],\n       [464.],\n       [491.],\n       [424.],\n       [540.],\n       [499.],\n       [517.],\n       [464.],\n       [518.],\n       [504.],\n       [540.],\n       [509.],\n       [470.],\n       [486.],\n       [564.],\n       [570.],\n       [499.],\n       [477.],\n       [ 36.],\n       [ 35.],\n       [ 35.],\n       [605.],\n       [610.],\n       [584.],\n       [ 86.],\n       [ 80.],\n       [ 35.],\n       [ 14.],\n       [609.],\n       [182.],\n       [395.],\n       [390.],\n       [321.],\n       [408.],\n       [227.],\n       [236.],\n       [276.],\n       [490.],\n       [477.],\n       [509.],\n       [381.],\n       [505.],\n       [537.],\n       [537.],\n       [411.],\n       [380.],\n       [419.],\n       [390.],\n       [168.],\n       [150.],\n       [150.],\n       [405.],\n       [190.],\n       [168.],\n       [103.],\n       [468.],\n       [120.],\n       [340.],\n       [405.],\n       [340.],\n       [489.],\n       [139.],\n       [150.],\n       [150.],\n       [493.],\n       [120.],\n       [172.],\n       [512.],\n       [435.],\n       [433.],\n       [439.],\n       [434.],\n       [437.],\n       [429.],\n       [440.],\n       [436.],\n       [435.],\n       [432.],\n       [429.],\n       [428.],\n       [431.],\n       [428.],\n       [438.],\n       [434.],\n       [441.],\n       [492.],\n       [480.],\n       [344.],\n       [398.],\n       [268.],\n       [535.],\n       [321.],\n       [499.],\n       [558.],\n       [538.],\n       [478.],\n       [589.],\n       [464.],\n       [393.],\n       [477.],\n       [395.],\n       [288.],\n       [ 13.],\n       [353.],\n       [373.],\n       [213.],\n       [373.],\n       [321.],\n       [375.],\n       [321.],\n       [340.],\n       [375.],\n       [375.],\n       [301.],\n       [375.],\n       [375.],\n       [353.],\n       [303.],\n       [459.],\n       [514.],\n       [523.],\n       [534.],\n       [562.],\n       [494.],\n       [550.],\n       [501.],\n       [523.],\n       [494.],\n       [513.],\n       [513.],\n       [275.],\n       [501.],\n       [507.],\n       [523.],\n       [501.],\n       [507.],\n       [508.],\n       [123.],\n       [591.],\n       [ 78.],\n       [566.],\n       [ 47.],\n       [211.],\n       [ 27.],\n       [  5.],\n       [ 52.],\n       [ 53.],\n       [ 26.],\n       [604.],\n       [ 33.],\n       [177.],\n       [607.],\n       [  4.],\n       [156.],\n       [524.],\n       [470.],\n       [139.],\n       [419.],\n       [ 29.],\n       [460.],\n       [ 82.],\n       [542.],\n       [109.],\n       [535.],\n       [483.],\n       [216.],\n       [120.],\n       [538.],\n       [ 48.],\n       [490.],\n       [490.],\n       [580.],\n       [581.],\n       [579.],\n       [  2.],\n       [ 70.],\n       [ 70.],\n       [  1.],\n       [  3.],\n       [  1.],\n       [ 11.],\n       [ 70.],\n       [ 71.],\n       [ 68.],\n       [ 68.],\n       [601.],\n       [ 73.],\n       [ 72.],\n       [505.],\n       [460.],\n       [506.],\n       [101.],\n       [127.],\n       [ 15.],\n       [160.],\n       [126.],\n       [283.],\n       [183.],\n       [193.],\n       [279.],\n       [325.],\n       [ 85.],\n       [321.]])"
     },
     "execution_count": 7,
     "metadata": {},
     "output_type": "execute_result"
    }
   ],
   "source": [
    "from sklearn.model_selection import train_test_split\n",
    "\n",
    "array = df.values\n",
    "X = array[:, 0:8]\n",
    "y = array[:, 8:]\n",
    "X_train, X_validation, y_train, y_validation = train_test_split(X, y, test_size=0.20, random_state=1)\n",
    "y"
   ],
   "metadata": {
    "collapsed": false,
    "pycharm": {
     "name": "#%%\n"
    }
   }
  },
  {
   "cell_type": "code",
   "execution_count": 21,
   "outputs": [
    {
     "name": "stderr",
     "output_type": "stream",
     "text": [
      "c:\\develop\\studies\\licencjat\\venv\\lib\\site-packages\\sklearn\\model_selection\\_split.py:676: UserWarning: The least populated class in y has only 1 members, which is less than n_splits=10.\n",
      "  warnings.warn(\n",
      "c:\\develop\\studies\\licencjat\\venv\\lib\\site-packages\\sklearn\\utils\\validation.py:993: DataConversionWarning: A column-vector y was passed when a 1d array was expected. Please change the shape of y to (n_samples, ), for example using ravel().\n",
      "  y = column_or_1d(y, warn=True)\n",
      "c:\\develop\\studies\\licencjat\\venv\\lib\\site-packages\\sklearn\\utils\\validation.py:993: DataConversionWarning: A column-vector y was passed when a 1d array was expected. Please change the shape of y to (n_samples, ), for example using ravel().\n",
      "  y = column_or_1d(y, warn=True)\n",
      "c:\\develop\\studies\\licencjat\\venv\\lib\\site-packages\\sklearn\\utils\\validation.py:993: DataConversionWarning: A column-vector y was passed when a 1d array was expected. Please change the shape of y to (n_samples, ), for example using ravel().\n",
      "  y = column_or_1d(y, warn=True)\n",
      "c:\\develop\\studies\\licencjat\\venv\\lib\\site-packages\\sklearn\\utils\\validation.py:993: DataConversionWarning: A column-vector y was passed when a 1d array was expected. Please change the shape of y to (n_samples, ), for example using ravel().\n",
      "  y = column_or_1d(y, warn=True)\n",
      "c:\\develop\\studies\\licencjat\\venv\\lib\\site-packages\\sklearn\\utils\\validation.py:993: DataConversionWarning: A column-vector y was passed when a 1d array was expected. Please change the shape of y to (n_samples, ), for example using ravel().\n",
      "  y = column_or_1d(y, warn=True)\n",
      "c:\\develop\\studies\\licencjat\\venv\\lib\\site-packages\\sklearn\\utils\\validation.py:993: DataConversionWarning: A column-vector y was passed when a 1d array was expected. Please change the shape of y to (n_samples, ), for example using ravel().\n",
      "  y = column_or_1d(y, warn=True)\n",
      "c:\\develop\\studies\\licencjat\\venv\\lib\\site-packages\\sklearn\\utils\\validation.py:993: DataConversionWarning: A column-vector y was passed when a 1d array was expected. Please change the shape of y to (n_samples, ), for example using ravel().\n",
      "  y = column_or_1d(y, warn=True)\n",
      "c:\\develop\\studies\\licencjat\\venv\\lib\\site-packages\\sklearn\\utils\\validation.py:993: DataConversionWarning: A column-vector y was passed when a 1d array was expected. Please change the shape of y to (n_samples, ), for example using ravel().\n",
      "  y = column_or_1d(y, warn=True)\n",
      "c:\\develop\\studies\\licencjat\\venv\\lib\\site-packages\\sklearn\\utils\\validation.py:993: DataConversionWarning: A column-vector y was passed when a 1d array was expected. Please change the shape of y to (n_samples, ), for example using ravel().\n",
      "  y = column_or_1d(y, warn=True)\n",
      "c:\\develop\\studies\\licencjat\\venv\\lib\\site-packages\\sklearn\\utils\\validation.py:993: DataConversionWarning: A column-vector y was passed when a 1d array was expected. Please change the shape of y to (n_samples, ), for example using ravel().\n",
      "  y = column_or_1d(y, warn=True)\n"
     ]
    },
    {
     "name": "stdout",
     "output_type": "stream",
     "text": [
      "LR: 0.022368 (0.011842)\n",
      "LDA: 0.034211 (0.015789)\n",
      "KNN: 0.023684 (0.015345)\n"
     ]
    },
    {
     "name": "stderr",
     "output_type": "stream",
     "text": [
      "c:\\develop\\studies\\licencjat\\venv\\lib\\site-packages\\sklearn\\model_selection\\_split.py:676: UserWarning: The least populated class in y has only 1 members, which is less than n_splits=10.\n",
      "  warnings.warn(\n",
      "c:\\develop\\studies\\licencjat\\venv\\lib\\site-packages\\sklearn\\utils\\validation.py:993: DataConversionWarning: A column-vector y was passed when a 1d array was expected. Please change the shape of y to (n_samples, ), for example using ravel().\n",
      "  y = column_or_1d(y, warn=True)\n",
      "c:\\develop\\studies\\licencjat\\venv\\lib\\site-packages\\sklearn\\utils\\validation.py:993: DataConversionWarning: A column-vector y was passed when a 1d array was expected. Please change the shape of y to (n_samples, ), for example using ravel().\n",
      "  y = column_or_1d(y, warn=True)\n",
      "c:\\develop\\studies\\licencjat\\venv\\lib\\site-packages\\sklearn\\utils\\validation.py:993: DataConversionWarning: A column-vector y was passed when a 1d array was expected. Please change the shape of y to (n_samples, ), for example using ravel().\n",
      "  y = column_or_1d(y, warn=True)\n",
      "c:\\develop\\studies\\licencjat\\venv\\lib\\site-packages\\sklearn\\utils\\validation.py:993: DataConversionWarning: A column-vector y was passed when a 1d array was expected. Please change the shape of y to (n_samples, ), for example using ravel().\n",
      "  y = column_or_1d(y, warn=True)\n",
      "c:\\develop\\studies\\licencjat\\venv\\lib\\site-packages\\sklearn\\utils\\validation.py:993: DataConversionWarning: A column-vector y was passed when a 1d array was expected. Please change the shape of y to (n_samples, ), for example using ravel().\n",
      "  y = column_or_1d(y, warn=True)\n",
      "c:\\develop\\studies\\licencjat\\venv\\lib\\site-packages\\sklearn\\utils\\validation.py:993: DataConversionWarning: A column-vector y was passed when a 1d array was expected. Please change the shape of y to (n_samples, ), for example using ravel().\n",
      "  y = column_or_1d(y, warn=True)\n",
      "c:\\develop\\studies\\licencjat\\venv\\lib\\site-packages\\sklearn\\utils\\validation.py:993: DataConversionWarning: A column-vector y was passed when a 1d array was expected. Please change the shape of y to (n_samples, ), for example using ravel().\n",
      "  y = column_or_1d(y, warn=True)\n",
      "c:\\develop\\studies\\licencjat\\venv\\lib\\site-packages\\sklearn\\utils\\validation.py:993: DataConversionWarning: A column-vector y was passed when a 1d array was expected. Please change the shape of y to (n_samples, ), for example using ravel().\n",
      "  y = column_or_1d(y, warn=True)\n",
      "c:\\develop\\studies\\licencjat\\venv\\lib\\site-packages\\sklearn\\utils\\validation.py:993: DataConversionWarning: A column-vector y was passed when a 1d array was expected. Please change the shape of y to (n_samples, ), for example using ravel().\n",
      "  y = column_or_1d(y, warn=True)\n",
      "c:\\develop\\studies\\licencjat\\venv\\lib\\site-packages\\sklearn\\utils\\validation.py:993: DataConversionWarning: A column-vector y was passed when a 1d array was expected. Please change the shape of y to (n_samples, ), for example using ravel().\n",
      "  y = column_or_1d(y, warn=True)\n",
      "c:\\develop\\studies\\licencjat\\venv\\lib\\site-packages\\sklearn\\model_selection\\_split.py:676: UserWarning: The least populated class in y has only 1 members, which is less than n_splits=10.\n",
      "  warnings.warn(\n",
      "c:\\develop\\studies\\licencjat\\venv\\lib\\site-packages\\sklearn\\neighbors\\_classification.py:198: DataConversionWarning: A column-vector y was passed when a 1d array was expected. Please change the shape of y to (n_samples,), for example using ravel().\n",
      "  return self._fit(X, y)\n",
      "c:\\develop\\studies\\licencjat\\venv\\lib\\site-packages\\sklearn\\neighbors\\_classification.py:198: DataConversionWarning: A column-vector y was passed when a 1d array was expected. Please change the shape of y to (n_samples,), for example using ravel().\n",
      "  return self._fit(X, y)\n",
      "c:\\develop\\studies\\licencjat\\venv\\lib\\site-packages\\sklearn\\neighbors\\_classification.py:198: DataConversionWarning: A column-vector y was passed when a 1d array was expected. Please change the shape of y to (n_samples,), for example using ravel().\n",
      "  return self._fit(X, y)\n",
      "c:\\develop\\studies\\licencjat\\venv\\lib\\site-packages\\sklearn\\neighbors\\_classification.py:198: DataConversionWarning: A column-vector y was passed when a 1d array was expected. Please change the shape of y to (n_samples,), for example using ravel().\n",
      "  return self._fit(X, y)\n",
      "c:\\develop\\studies\\licencjat\\venv\\lib\\site-packages\\sklearn\\neighbors\\_classification.py:198: DataConversionWarning: A column-vector y was passed when a 1d array was expected. Please change the shape of y to (n_samples,), for example using ravel().\n",
      "  return self._fit(X, y)\n",
      "c:\\develop\\studies\\licencjat\\venv\\lib\\site-packages\\sklearn\\neighbors\\_classification.py:198: DataConversionWarning: A column-vector y was passed when a 1d array was expected. Please change the shape of y to (n_samples,), for example using ravel().\n",
      "  return self._fit(X, y)\n",
      "c:\\develop\\studies\\licencjat\\venv\\lib\\site-packages\\sklearn\\neighbors\\_classification.py:198: DataConversionWarning: A column-vector y was passed when a 1d array was expected. Please change the shape of y to (n_samples,), for example using ravel().\n",
      "  return self._fit(X, y)\n",
      "c:\\develop\\studies\\licencjat\\venv\\lib\\site-packages\\sklearn\\neighbors\\_classification.py:198: DataConversionWarning: A column-vector y was passed when a 1d array was expected. Please change the shape of y to (n_samples,), for example using ravel().\n",
      "  return self._fit(X, y)\n",
      "c:\\develop\\studies\\licencjat\\venv\\lib\\site-packages\\sklearn\\neighbors\\_classification.py:198: DataConversionWarning: A column-vector y was passed when a 1d array was expected. Please change the shape of y to (n_samples,), for example using ravel().\n",
      "  return self._fit(X, y)\n",
      "c:\\develop\\studies\\licencjat\\venv\\lib\\site-packages\\sklearn\\neighbors\\_classification.py:198: DataConversionWarning: A column-vector y was passed when a 1d array was expected. Please change the shape of y to (n_samples,), for example using ravel().\n",
      "  return self._fit(X, y)\n",
      "c:\\develop\\studies\\licencjat\\venv\\lib\\site-packages\\sklearn\\model_selection\\_split.py:676: UserWarning: The least populated class in y has only 1 members, which is less than n_splits=10.\n",
      "  warnings.warn(\n"
     ]
    },
    {
     "name": "stdout",
     "output_type": "stream",
     "text": [
      "CART: 0.034211 (0.020553)\n"
     ]
    },
    {
     "name": "stderr",
     "output_type": "stream",
     "text": [
      "c:\\develop\\studies\\licencjat\\venv\\lib\\site-packages\\sklearn\\model_selection\\_split.py:676: UserWarning: The least populated class in y has only 1 members, which is less than n_splits=10.\n",
      "  warnings.warn(\n",
      "c:\\develop\\studies\\licencjat\\venv\\lib\\site-packages\\sklearn\\utils\\validation.py:993: DataConversionWarning: A column-vector y was passed when a 1d array was expected. Please change the shape of y to (n_samples, ), for example using ravel().\n",
      "  y = column_or_1d(y, warn=True)\n",
      "c:\\develop\\studies\\licencjat\\venv\\lib\\site-packages\\sklearn\\utils\\validation.py:993: DataConversionWarning: A column-vector y was passed when a 1d array was expected. Please change the shape of y to (n_samples, ), for example using ravel().\n",
      "  y = column_or_1d(y, warn=True)\n",
      "c:\\develop\\studies\\licencjat\\venv\\lib\\site-packages\\sklearn\\utils\\validation.py:993: DataConversionWarning: A column-vector y was passed when a 1d array was expected. Please change the shape of y to (n_samples, ), for example using ravel().\n",
      "  y = column_or_1d(y, warn=True)\n",
      "c:\\develop\\studies\\licencjat\\venv\\lib\\site-packages\\sklearn\\utils\\validation.py:993: DataConversionWarning: A column-vector y was passed when a 1d array was expected. Please change the shape of y to (n_samples, ), for example using ravel().\n",
      "  y = column_or_1d(y, warn=True)\n",
      "c:\\develop\\studies\\licencjat\\venv\\lib\\site-packages\\sklearn\\utils\\validation.py:993: DataConversionWarning: A column-vector y was passed when a 1d array was expected. Please change the shape of y to (n_samples, ), for example using ravel().\n",
      "  y = column_or_1d(y, warn=True)\n",
      "c:\\develop\\studies\\licencjat\\venv\\lib\\site-packages\\sklearn\\utils\\validation.py:993: DataConversionWarning: A column-vector y was passed when a 1d array was expected. Please change the shape of y to (n_samples, ), for example using ravel().\n",
      "  y = column_or_1d(y, warn=True)\n",
      "c:\\develop\\studies\\licencjat\\venv\\lib\\site-packages\\sklearn\\utils\\validation.py:993: DataConversionWarning: A column-vector y was passed when a 1d array was expected. Please change the shape of y to (n_samples, ), for example using ravel().\n",
      "  y = column_or_1d(y, warn=True)\n",
      "c:\\develop\\studies\\licencjat\\venv\\lib\\site-packages\\sklearn\\utils\\validation.py:993: DataConversionWarning: A column-vector y was passed when a 1d array was expected. Please change the shape of y to (n_samples, ), for example using ravel().\n",
      "  y = column_or_1d(y, warn=True)\n",
      "c:\\develop\\studies\\licencjat\\venv\\lib\\site-packages\\sklearn\\utils\\validation.py:993: DataConversionWarning: A column-vector y was passed when a 1d array was expected. Please change the shape of y to (n_samples, ), for example using ravel().\n",
      "  y = column_or_1d(y, warn=True)\n",
      "c:\\develop\\studies\\licencjat\\venv\\lib\\site-packages\\sklearn\\utils\\validation.py:993: DataConversionWarning: A column-vector y was passed when a 1d array was expected. Please change the shape of y to (n_samples, ), for example using ravel().\n",
      "  y = column_or_1d(y, warn=True)\n",
      "c:\\develop\\studies\\licencjat\\venv\\lib\\site-packages\\sklearn\\model_selection\\_split.py:676: UserWarning: The least populated class in y has only 1 members, which is less than n_splits=10.\n",
      "  warnings.warn(\n",
      "c:\\develop\\studies\\licencjat\\venv\\lib\\site-packages\\sklearn\\utils\\validation.py:993: DataConversionWarning: A column-vector y was passed when a 1d array was expected. Please change the shape of y to (n_samples, ), for example using ravel().\n",
      "  y = column_or_1d(y, warn=True)\n"
     ]
    },
    {
     "name": "stdout",
     "output_type": "stream",
     "text": [
      "NB: 0.031579 (0.012059)\n"
     ]
    },
    {
     "name": "stderr",
     "output_type": "stream",
     "text": [
      "c:\\develop\\studies\\licencjat\\venv\\lib\\site-packages\\sklearn\\utils\\validation.py:993: DataConversionWarning: A column-vector y was passed when a 1d array was expected. Please change the shape of y to (n_samples, ), for example using ravel().\n",
      "  y = column_or_1d(y, warn=True)\n",
      "c:\\develop\\studies\\licencjat\\venv\\lib\\site-packages\\sklearn\\utils\\validation.py:993: DataConversionWarning: A column-vector y was passed when a 1d array was expected. Please change the shape of y to (n_samples, ), for example using ravel().\n",
      "  y = column_or_1d(y, warn=True)\n",
      "c:\\develop\\studies\\licencjat\\venv\\lib\\site-packages\\sklearn\\utils\\validation.py:993: DataConversionWarning: A column-vector y was passed when a 1d array was expected. Please change the shape of y to (n_samples, ), for example using ravel().\n",
      "  y = column_or_1d(y, warn=True)\n",
      "c:\\develop\\studies\\licencjat\\venv\\lib\\site-packages\\sklearn\\utils\\validation.py:993: DataConversionWarning: A column-vector y was passed when a 1d array was expected. Please change the shape of y to (n_samples, ), for example using ravel().\n",
      "  y = column_or_1d(y, warn=True)\n",
      "c:\\develop\\studies\\licencjat\\venv\\lib\\site-packages\\sklearn\\utils\\validation.py:993: DataConversionWarning: A column-vector y was passed when a 1d array was expected. Please change the shape of y to (n_samples, ), for example using ravel().\n",
      "  y = column_or_1d(y, warn=True)\n",
      "c:\\develop\\studies\\licencjat\\venv\\lib\\site-packages\\sklearn\\utils\\validation.py:993: DataConversionWarning: A column-vector y was passed when a 1d array was expected. Please change the shape of y to (n_samples, ), for example using ravel().\n",
      "  y = column_or_1d(y, warn=True)\n",
      "c:\\develop\\studies\\licencjat\\venv\\lib\\site-packages\\sklearn\\utils\\validation.py:993: DataConversionWarning: A column-vector y was passed when a 1d array was expected. Please change the shape of y to (n_samples, ), for example using ravel().\n",
      "  y = column_or_1d(y, warn=True)\n",
      "c:\\develop\\studies\\licencjat\\venv\\lib\\site-packages\\sklearn\\utils\\validation.py:993: DataConversionWarning: A column-vector y was passed when a 1d array was expected. Please change the shape of y to (n_samples, ), for example using ravel().\n",
      "  y = column_or_1d(y, warn=True)\n",
      "c:\\develop\\studies\\licencjat\\venv\\lib\\site-packages\\sklearn\\utils\\validation.py:993: DataConversionWarning: A column-vector y was passed when a 1d array was expected. Please change the shape of y to (n_samples, ), for example using ravel().\n",
      "  y = column_or_1d(y, warn=True)\n"
     ]
    },
    {
     "name": "stdout",
     "output_type": "stream",
     "text": [
      "SVM: 0.014474 (0.003947)\n"
     ]
    }
   ],
   "source": [
    "from sklearn.naive_bayes import GaussianNB\n",
    "from sklearn.discriminant_analysis import LinearDiscriminantAnalysis\n",
    "from sklearn.svm import SVC\n",
    "from sklearn.tree import DecisionTreeClassifier\n",
    "from sklearn.model_selection import cross_val_score, StratifiedKFold\n",
    "from sklearn.linear_model import LogisticRegression\n",
    "from sklearn.neighbors import KNeighborsClassifier\n",
    "\n",
    "models = [('LR', LogisticRegression(solver='liblinear', multi_class='ovr')), ('LDA', LinearDiscriminantAnalysis()),\n",
    "          ('KNN', KNeighborsClassifier()), ('CART', DecisionTreeClassifier()), ('NB', GaussianNB()),\n",
    "          ('SVM', SVC(gamma='auto'))]\n",
    "results = []\n",
    "names = []\n",
    "for name, model in models:\n",
    "    kfold = StratifiedKFold(n_splits=10, random_state=1, shuffle=True)\n",
    "    cv_results = cross_val_score(model, X_train, y_train, cv=kfold, scoring='accuracy')\n",
    "    results.append(cv_results)\n",
    "    names.append(name)\n",
    "    print('%s: %f (%f)' % (name, cv_results.mean(), cv_results.std()))"
   ],
   "metadata": {
    "collapsed": false,
    "pycharm": {
     "name": "#%%\n"
    }
   }
  },
  {
   "cell_type": "code",
   "execution_count": 19,
   "outputs": [
    {
     "data": {
      "text/plain": "                               lapTireChangeValidation  \\\n0                   22: SOFT->MEDIUM, 46: MEDIUM->SOFT   \n1                    8: HARD->MEDIUM, 47: MEDIUM->SOFT   \n2                   19: SOFT->MEDIUM, 41: MEDIUM->SOFT   \n3    9: SOFT->MEDIUM, 27: MEDIUM->MEDIUM, 50: MEDIU...   \n4                 21: SOFT->MEDIUM, 42: MEDIUM->MEDIUM   \n..                                                 ...   \n186  7: MEDIUM->MEDIUM, 8: MEDIUM->UNKNOWN, 34: MED...   \n187                                     13: SOFT->HARD   \n188                     36: INTERMEDIATE->INTERMEDIATE   \n189                 13: SOFT->MEDIUM, 32: MEDIUM->SOFT   \n190                                   11: MEDIUM->HARD   \n\n                                lapTireChangePredicted  \n0                                       22: SOFT->HARD  \n1                         1: nan->SOFT, 26: SOFT->SOFT  \n2                         1: nan->SOFT, 26: SOFT->SOFT  \n3                     24: SOFT->HARD, 45: HARD->MEDIUM  \n4                 25: MEDIUM->MEDIUM, 38: MEDIUM->SOFT  \n..                                                 ...  \n186  2: MEDIUM->MEDIUM, 3: MEDIUM->MEDIUM, 41: MEDI...  \n187                 25: MEDIUM->HARD, 33: HARD->MEDIUM  \n188                   19: SOFT->HARD, 42: HARD->MEDIUM  \n189                                   26: HARD->MEDIUM  \n190                   26: SOFT->HARD, 54: HARD->MEDIUM  \n\n[191 rows x 2 columns]",
      "text/html": "<div>\n<style scoped>\n    .dataframe tbody tr th:only-of-type {\n        vertical-align: middle;\n    }\n\n    .dataframe tbody tr th {\n        vertical-align: top;\n    }\n\n    .dataframe thead th {\n        text-align: right;\n    }\n</style>\n<table border=\"1\" class=\"dataframe\">\n  <thead>\n    <tr style=\"text-align: right;\">\n      <th></th>\n      <th>lapTireChangeValidation</th>\n      <th>lapTireChangePredicted</th>\n    </tr>\n  </thead>\n  <tbody>\n    <tr>\n      <th>0</th>\n      <td>22: SOFT-&gt;MEDIUM, 46: MEDIUM-&gt;SOFT</td>\n      <td>22: SOFT-&gt;HARD</td>\n    </tr>\n    <tr>\n      <th>1</th>\n      <td>8: HARD-&gt;MEDIUM, 47: MEDIUM-&gt;SOFT</td>\n      <td>1: nan-&gt;SOFT, 26: SOFT-&gt;SOFT</td>\n    </tr>\n    <tr>\n      <th>2</th>\n      <td>19: SOFT-&gt;MEDIUM, 41: MEDIUM-&gt;SOFT</td>\n      <td>1: nan-&gt;SOFT, 26: SOFT-&gt;SOFT</td>\n    </tr>\n    <tr>\n      <th>3</th>\n      <td>9: SOFT-&gt;MEDIUM, 27: MEDIUM-&gt;MEDIUM, 50: MEDIU...</td>\n      <td>24: SOFT-&gt;HARD, 45: HARD-&gt;MEDIUM</td>\n    </tr>\n    <tr>\n      <th>4</th>\n      <td>21: SOFT-&gt;MEDIUM, 42: MEDIUM-&gt;MEDIUM</td>\n      <td>25: MEDIUM-&gt;MEDIUM, 38: MEDIUM-&gt;SOFT</td>\n    </tr>\n    <tr>\n      <th>...</th>\n      <td>...</td>\n      <td>...</td>\n    </tr>\n    <tr>\n      <th>186</th>\n      <td>7: MEDIUM-&gt;MEDIUM, 8: MEDIUM-&gt;UNKNOWN, 34: MED...</td>\n      <td>2: MEDIUM-&gt;MEDIUM, 3: MEDIUM-&gt;MEDIUM, 41: MEDI...</td>\n    </tr>\n    <tr>\n      <th>187</th>\n      <td>13: SOFT-&gt;HARD</td>\n      <td>25: MEDIUM-&gt;HARD, 33: HARD-&gt;MEDIUM</td>\n    </tr>\n    <tr>\n      <th>188</th>\n      <td>36: INTERMEDIATE-&gt;INTERMEDIATE</td>\n      <td>19: SOFT-&gt;HARD, 42: HARD-&gt;MEDIUM</td>\n    </tr>\n    <tr>\n      <th>189</th>\n      <td>13: SOFT-&gt;MEDIUM, 32: MEDIUM-&gt;SOFT</td>\n      <td>26: HARD-&gt;MEDIUM</td>\n    </tr>\n    <tr>\n      <th>190</th>\n      <td>11: MEDIUM-&gt;HARD</td>\n      <td>26: SOFT-&gt;HARD, 54: HARD-&gt;MEDIUM</td>\n    </tr>\n  </tbody>\n</table>\n<p>191 rows × 2 columns</p>\n</div>"
     },
     "execution_count": 19,
     "metadata": {},
     "output_type": "execute_result"
    }
   ],
   "source": [
    "model = LinearDiscriminantAnalysis()\n",
    "model.fit(X, y)\n",
    "predictions = model.predict(X_validation)\n",
    "predictions_df = pd.DataFrame(predictions, columns=['lapTireChangePredicted'])\n",
    "predictions_df = predictions_df.round()\n",
    "predictions_df.iloc[:, 0] = lapTireChangeLabel[predictions_df.iloc[:, 0].astype(int)]\n",
    "\n",
    "y_validation_df = pd.DataFrame(y_validation, columns=['lapTireChangeValidation'])\n",
    "y_validation_df.iloc[:, 0] = lapTireChangeLabel[y_validation_df.iloc[:, 0].astype(int)]\n",
    "y_validation_df.join(predictions_df)"
   ],
   "metadata": {
    "collapsed": false,
    "pycharm": {
     "name": "#%%\n"
    }
   }
  }
 ],
 "metadata": {
  "kernelspec": {
   "display_name": "Python 3",
   "language": "python",
   "name": "python3"
  },
  "language_info": {
   "codemirror_mode": {
    "name": "ipython",
    "version": 2
   },
   "file_extension": ".py",
   "mimetype": "text/x-python",
   "name": "python",
   "nbconvert_exporter": "python",
   "pygments_lexer": "ipython2",
   "version": "2.7.6"
  }
 },
 "nbformat": 4,
 "nbformat_minor": 0
}